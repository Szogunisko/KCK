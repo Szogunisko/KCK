{
 "cells": [
  {
   "cell_type": "code",
   "execution_count": 1,
   "metadata": {},
   "outputs": [
    {
     "name": "stdout",
     "output_type": "stream",
     "text": [
      "['בְּ', 'רֵ', 'א', 'שִׁ֖', 'י', 'ת']\n",
      "בראשית\n",
      "א\n",
      "None\n"
     ]
    }
   ],
   "source": [
    "from hebrew import Hebrew\n",
    "from hebrew.chars import HebrewChar, ALEPH\n",
    "\n",
    "hs = Hebrew('בְּרֵאשִׁ֖ית')\n",
    "print(list(hs.graphemes))  # ['בְּ', 'רֵ', 'א', 'שִׁ֖', 'י', 'ת']\n",
    "print(hs.text_only())  # בראשית\n",
    "\n",
    "print(ALEPH)  # HebrewChar(char='א', name='Aleph', hebrew_name='אָלֶף', name_alts=['Alef'], hebrew_name_alts=None, final_letter=False)\n",
    "\n",
    "print(HebrewChar.search('bet'))  # HebrewChar(char='בּ', name='Bet', hebrew_name='בֵּית', name_alts=None, hebrew_name_alts=None, final_letter=False)"
   ]
  }
 ],
 "metadata": {
  "kernelspec": {
   "display_name": "Python 3",
   "language": "python",
   "name": "python3"
  },
  "language_info": {
   "codemirror_mode": {
    "name": "ipython",
    "version": 3
   },
   "file_extension": ".py",
   "mimetype": "text/x-python",
   "name": "python",
   "nbconvert_exporter": "python",
   "pygments_lexer": "ipython3",
   "version": "3.11.2"
  }
 },
 "nbformat": 4,
 "nbformat_minor": 2
}
